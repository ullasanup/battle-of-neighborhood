{
 "cells": [
  {
   "cell_type": "markdown",
   "metadata": {},
   "source": [
    "# The Battle of the Neighborhoods - Week 1\n",
    "## Introduction & Business Problem \n",
    "\n",
    "#### Problem Background:\n",
    "The city of Houston is 4th largest city in the United States and is energy capital of USA. It is multicultural and diverse. For employment opportunities and others, many families move to this city from across the world. When they move their first challenge is to find good neighborhood with good schools and low crime rate.\n",
    "Most people goes by recommendation from individuals. This is good but having a way to find the best neighborhoods supported by data would enable them to make good choices.\n",
    "\n",
    "#### Problem Description:\n",
    "A family who is new to Houston and asks Relocation Consulting Firm- XYZ Company Ltd  to find the best neighborhoods for them which have the best public schools for their school going kids and lower crime rate. The choice of neighborhood should also consider the home prices and the number of venues to do activities within that neighborhood. They also want the rational behind the recommendation.\n",
    "\n",
    "#### Target Audience:\n",
    "To recommend the correct neighborhood, XYZ Company Ltd has appointed me to lead of the Data Science team. The objective is to locate and recommend to the family which neighborhood of Houston city will be best choice. The Family also expects to understand the rationale of the recommendations made.\n",
    "This would interest anyone who comes to XYZ Company Ltd with similar request for Houston City.\n",
    "\n",
    "#### Success Criteria:\n",
    "The success criteria of the project will be a good recommendation of Neighborhood/Zip Code choice for the family on behalf of XYZ Company Ltd based on data\n"
   ]
  },
  {
   "cell_type": "markdown",
   "metadata": {},
   "source": [
    "## Data\n",
    "\n",
    "We need below data for our Analysis -\n",
    "1. All Zip Codes/Neighborhood in Houston \n",
    "2. Home Price data for each Zip Code \n",
    "3. Crime data in every Zip Code\n",
    "4. Average School Rating in every Zip Code\n",
    "4. Latitude and Longitude of each Zip Code\n",
    "5. The Number of venues in each Zip Code from Foursquare APIs based on Latitude and Longitude of Zip Code\n",
    "\n",
    "We can get All Zip Codes/Neighborhood in Houston with average home prices from website of Houstonia- a poulaer online magezine in Houston. This is available at -  \n",
    "https://www.houstoniamag.com/articles/2017/3/24/neighborhoods-by-the-numbers-real-estate-data-2017\n",
    "\n",
    "Next, Crime data in every Zip Code can be read from the published data from Houston Police Department at their website -  \n",
    "http://www.houstontx.gov/police/cs/xls/06-2019.NIBRS_Public_Data_Group_A&B.xlsx\n",
    "\n",
    "School Accountability Ratings are avilable at  \n",
    "https://opendata.arcgis.com/datasets/6cf4436417ff43d0a6e741dc83339ae2_0.csv.  \n",
    "This dataset was made available on Arc GIS website by Texas Education Agency. This Dataset contains the school  with its address and its Accountability Rating for whole Texas. We would filter this data set for Houston and get the average rating of all schools in each Zip Code.\n",
    "\n",
    "Further. we get the latitude and logitude data of all Zip Codes in US from open data available at   \n",
    "https://public.opendatasoft.com/explore/dataset/us-zip-code-latitude-and-longitude/download/?format=csv&timezone=America/Chicago&use_labels_for_header=true&csv_separator=%3B .   \n",
    "Again we would filter this dataset for Houston only.  \n",
    "\n",
    "The Latitude and Longitude of each Zip Code would be used to get all venues in that Zip Code from FourSquare API. We would be interested in only total number of Venues in that zip code.  \n",
    "\n",
    "For analysis , we would join all above data in single data set.\n"
   ]
  },
  {
   "cell_type": "markdown",
   "metadata": {},
   "source": []
  },
  {
   "cell_type": "code",
   "execution_count": null,
   "metadata": {},
   "outputs": [],
   "source": []
  }
 ],
 "metadata": {
  "kernelspec": {
   "display_name": "Python 3",
   "language": "python",
   "name": "python3"
  },
  "language_info": {
   "codemirror_mode": {
    "name": "ipython",
    "version": 3
   },
   "file_extension": ".py",
   "mimetype": "text/x-python",
   "name": "python",
   "nbconvert_exporter": "python",
   "pygments_lexer": "ipython3",
   "version": "3.7.3"
  }
 },
 "nbformat": 4,
 "nbformat_minor": 2
}
