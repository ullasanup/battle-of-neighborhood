{
 "cells": [
  {
   "cell_type": "markdown",
   "metadata": {},
   "source": [
    "# The Battle of the Neighborhoods - Week 1\n",
    "## Introduction & Business Problem :\n",
    "\n",
    "#### Problem Background:\n",
    "The city of Houston is 4th largest city in the United States and is energy capital of USA. It is multicultural and diverse. For employment opportunities and others, many families move to this city from across the world. When they move their first challenge is to find good neighborhood with good schools and low crime rate.\n",
    "Most people goes by recommendation from individuals. This is good but having a way to find the best neighborhoods supported by data would enable them to make good choices.\n",
    "\n",
    "#### Problem Description:\n",
    "A family who is new to Houston and asks Relocation Consulting Firm- XYZ Company Ltd  to find the best neighborhoods for them which have the best public schools for their school going kids and lower crime rate. The choice of neighborhood should also consider the home prices and the number of venues to do activities within that neighborhood. They also want the rational behind the recommendation.\n",
    "\n",
    "#### Target Audience:\n",
    "To recommend the correct neighborhood, XYZ Company Ltd has appointed me to lead of the Data Science team. The objective is to locate and recommend to the family which neighborhood of Houston city will be best choice. The Family also expects to understand the rationale of the recommendations made.\n",
    "This would interest anyone who comes to XYZ Company Ltd with similar request for Houston City.\n",
    "\n",
    "#### Success Criteria:\n",
    "The success criteria of the project will be a good recommendation of Neighborhood/Zip Code choice for the family on behalf of XYZ Company Ltd based on data\n"
   ]
  },
  {
   "cell_type": "code",
   "execution_count": null,
   "metadata": {},
   "outputs": [],
   "source": []
  }
 ],
 "metadata": {
  "kernelspec": {
   "display_name": "Python 3",
   "language": "python",
   "name": "python3"
  },
  "language_info": {
   "codemirror_mode": {
    "name": "ipython",
    "version": 3
   },
   "file_extension": ".py",
   "mimetype": "text/x-python",
   "name": "python",
   "nbconvert_exporter": "python",
   "pygments_lexer": "ipython3",
   "version": "3.7.3"
  }
 },
 "nbformat": 4,
 "nbformat_minor": 2
}
